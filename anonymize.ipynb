{
 "cells": [
  {
   "cell_type": "markdown",
   "metadata": {},
   "source": [
    "# Usage"
   ]
  },
  {
   "cell_type": "markdown",
   "metadata": {},
   "source": [
    "### Anonymizing class `Anonymize` defined in `anonymize.py`"
   ]
  },
  {
   "cell_type": "code",
   "execution_count": 1,
   "metadata": {},
   "outputs": [],
   "source": [
    "import spacy\n",
    "from pprint import pprint\n",
    "import tabulate\n",
    "\n",
    "from anonymize import Anonymize"
   ]
  },
  {
   "cell_type": "markdown",
   "metadata": {},
   "source": [
    "### Set tags to be considered "
   ]
  },
  {
   "cell_type": "code",
   "execution_count": 2,
   "metadata": {},
   "outputs": [],
   "source": [
    "tags_to_anon = ['PERSON', 'ORG', 'GPE', 'NORP', 'FAC']\n",
    "#tags_to_anon = ['PERSON', 'ORG']\n",
    "\n",
    "anon = Anonymize(tags_to_anon)"
   ]
  },
  {
   "cell_type": "markdown",
   "metadata": {},
   "source": [
    "##### Kindly refer to https://spacy.io/api/annotation#named-entities for tag definitions"
   ]
  },
  {
   "cell_type": "markdown",
   "metadata": {},
   "source": [
    "### Call `get_anon_string` for all the strings"
   ]
  },
  {
   "cell_type": "code",
   "execution_count": 3,
   "metadata": {},
   "outputs": [],
   "source": [
    "orig_strings = [\"Anand P Gupta was a student in my university, the XYZ Institute of Technology located at Pilani, Rajasthan, India. He performed well.\",\n",
    "           \n",
    "           \"Gabriella Marquex worked with me for a long long time in the Yugoslavic state. I was her direct superviser at Global link Technology.\"\n",
    "          ]"
   ]
  },
  {
   "cell_type": "code",
   "execution_count": 4,
   "metadata": {
    "scrolled": false
   },
   "outputs": [
    {
     "name": "stdout",
     "output_type": "stream",
     "text": [
      "Example #1\n",
      "Original String    Anonymized String\n",
      "-----------------  -------------------\n",
      "Anand              PERSON-B-0\n",
      "P                  PERSON-I-1\n",
      "Gupta              PERSON-I-2\n",
      "was                was\n",
      "a                  a\n",
      "student            student\n",
      "in                 in\n",
      "my                 my\n",
      "university,        university\n",
      "the                ,\n",
      "XYZ                ORG-B-3\n",
      "Institute          ORG-I-4\n",
      "of                 ORG-I-5\n",
      "Technology         ORG-I-6\n",
      "located            ORG-I-7\n",
      "at                 located\n",
      "Pilani,            at\n",
      "Rajasthan,         GPE-B-8\n",
      "India.             ,\n",
      "He                 GPE-B-9\n",
      "performed          ,\n",
      "well.              GPE-B-10\n",
      "**************************************************\n",
      "Example #2\n",
      "Original String    Anonymized String\n",
      "-----------------  -------------------\n",
      "Gabriella          PERSON-B-11\n",
      "Marquex            PERSON-I-12\n",
      "worked             worked\n",
      "with               with\n",
      "me                 me\n",
      "for                for\n",
      "a                  a\n",
      "long               long\n",
      "long               long\n",
      "time               time\n",
      "in                 in\n",
      "the                the\n",
      "Yugoslavic         NORP-B-13\n",
      "state.             state\n",
      "I                  .\n",
      "was                I\n",
      "her                was\n",
      "direct             her\n",
      "superviser         direct\n",
      "at                 superviser\n",
      "Global             at\n",
      "link               ORG-B-14\n",
      "Technology.        ORG-I-15\n",
      "**************************************************\n"
     ]
    }
   ],
   "source": [
    "anon_strings = [anon.get_anon_string(orig_string) for orig_string in orig_strings]\n",
    "\n",
    "for idx in range(len(orig_strings)):\n",
    "    print(\"Example #{0}\".format(idx + 1))\n",
    "    to_print = tabulate.tabulate(zip(orig_strings[idx].split(), anon_strings[idx].split()), \\\n",
    "                             headers = [\"Original String\", \"Anonymized String\"])\n",
    "    print(to_print)\n",
    "    print(\"*\"*50)"
   ]
  },
  {
   "cell_type": "markdown",
   "metadata": {},
   "source": [
    "### To print mapping  -"
   ]
  },
  {
   "cell_type": "code",
   "execution_count": 5,
   "metadata": {
    "scrolled": true
   },
   "outputs": [
    {
     "name": "stdout",
     "output_type": "stream",
     "text": [
      "{'Anand': 'PERSON-B-0',\n",
      " 'Gabriella': 'PERSON-B-11',\n",
      " 'Global': 'ORG-B-14',\n",
      " 'Gupta': 'PERSON-I-2',\n",
      " 'India': 'GPE-B-10',\n",
      " 'Institute': 'ORG-I-5',\n",
      " 'Marquex': 'PERSON-I-12',\n",
      " 'P': 'PERSON-I-1',\n",
      " 'Pilani': 'GPE-B-8',\n",
      " 'Rajasthan': 'GPE-B-9',\n",
      " 'Technology': 'ORG-I-7',\n",
      " 'XYZ': 'ORG-I-4',\n",
      " 'Yugoslavic': 'NORP-B-13',\n",
      " 'link': 'ORG-I-15',\n",
      " 'of': 'ORG-I-6',\n",
      " 'the': 'ORG-B-3'}\n"
     ]
    }
   ],
   "source": [
    "pprint(anon.mapping)"
   ]
  },
  {
   "cell_type": "markdown",
   "metadata": {},
   "source": [
    "##### Note that even though words like `the` and `of` are in the mapping, not all of them are replaced in the text. Only those that are part of Named Entities are replaced. "
   ]
  },
  {
   "cell_type": "markdown",
   "metadata": {},
   "source": [
    "### To save mapping - "
   ]
  },
  {
   "cell_type": "code",
   "execution_count": 6,
   "metadata": {},
   "outputs": [],
   "source": [
    "filepath = 'anon_mapping.pkl'\n",
    "anon.save_mapping(filepath)"
   ]
  },
  {
   "cell_type": "markdown",
   "metadata": {},
   "source": [
    "### To load mapping - "
   ]
  },
  {
   "cell_type": "code",
   "execution_count": 7,
   "metadata": {
    "scrolled": true
   },
   "outputs": [
    {
     "name": "stdout",
     "output_type": "stream",
     "text": [
      "{'Anand': 'PERSON-B-0',\n",
      " 'Gabriella': 'PERSON-B-11',\n",
      " 'Global': 'ORG-B-14',\n",
      " 'Gupta': 'PERSON-I-2',\n",
      " 'India': 'GPE-B-10',\n",
      " 'Institute': 'ORG-I-5',\n",
      " 'Marquex': 'PERSON-I-12',\n",
      " 'P': 'PERSON-I-1',\n",
      " 'Pilani': 'GPE-B-8',\n",
      " 'Rajasthan': 'GPE-B-9',\n",
      " 'Technology': 'ORG-I-7',\n",
      " 'XYZ': 'ORG-I-4',\n",
      " 'Yugoslavic': 'NORP-B-13',\n",
      " 'link': 'ORG-I-15',\n",
      " 'of': 'ORG-I-6',\n",
      " 'the': 'ORG-B-3'}\n"
     ]
    }
   ],
   "source": [
    "mapping = anon.load_mapping(filepath)\n",
    "pprint(mapping)"
   ]
  }
 ],
 "metadata": {
  "kernelspec": {
   "display_name": "Python (bert_env_pytorch)",
   "language": "python",
   "name": "bert_env_pytorch"
  },
  "language_info": {
   "codemirror_mode": {
    "name": "ipython",
    "version": 3
   },
   "file_extension": ".py",
   "mimetype": "text/x-python",
   "name": "python",
   "nbconvert_exporter": "python",
   "pygments_lexer": "ipython3",
   "version": "3.7.3"
  }
 },
 "nbformat": 4,
 "nbformat_minor": 2
}
