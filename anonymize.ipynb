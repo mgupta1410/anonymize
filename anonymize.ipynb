{
 "cells": [
  {
   "cell_type": "markdown",
   "metadata": {},
   "source": [
    "## Anonymizing function"
   ]
  },
  {
   "cell_type": "code",
   "execution_count": 1,
   "metadata": {},
   "outputs": [],
   "source": [
    "import spacy\n",
    "from pprint import pprint\n",
    "\n",
    "nlp = spacy.load('en')\n",
    "\n",
    "# Kindly refer https://spacy.io/api/annotation#named-entities\n",
    "tags_to_anon = ['PERSON', 'ORG', 'GPE', 'NORP', 'FAC']\n",
    "\n",
    "def get_anon_string(string, mapping):\n",
    "    anon_tokens = []\n",
    "    doc = nlp(string)\n",
    "    for i, token in enumerate(doc):\n",
    "        key = token.text\n",
    "        if token.ent_type_ in tags_to_anon:\n",
    "            if key not in mapping:\n",
    "                value = \"{0}-{1}-{2}\".format(token.ent_type_, token.ent_iob_, str(len(mapping)))\n",
    "                mapping[key] = value\n",
    "            else:\n",
    "                value = mapping[key]\n",
    "            anon_tokens.append(value)\n",
    "        else:\n",
    "            anon_tokens.append(key)\n",
    "    return ' '.join(anon_tokens)"
   ]
  },
  {
   "cell_type": "markdown",
   "metadata": {},
   "source": [
    "## Examples"
   ]
  },
  {
   "cell_type": "code",
   "execution_count": 2,
   "metadata": {},
   "outputs": [],
   "source": [
    "strings = [\"Anand P Gupta was a student in my university,\" + \"\\n\" + \"the XYZ Institute of Technology located \\\n",
    "at Pilani, Rajasthan, India. He performed well.\",\n",
    "           \n",
    "           \"Gabriella Marquex worked with me for a long long time in the Yugoslavic state. I was her direct \\\n",
    "superviser at Global link Technology.\"\n",
    "          ]"
   ]
  },
  {
   "cell_type": "markdown",
   "metadata": {},
   "source": [
    "#### Usage : Declare and empty dictionary and pass it into all function `get_anon_string` function calls. "
   ]
  },
  {
   "cell_type": "code",
   "execution_count": 3,
   "metadata": {
    "scrolled": true
   },
   "outputs": [
    {
     "name": "stdout",
     "output_type": "stream",
     "text": [
      "['PERSON-B-0 PERSON-I-1 PERSON-I-2 was a student in my university , \\n'\n",
      " ' ORG-B-3 ORG-I-4 ORG-I-5 ORG-I-6 ORG-I-7 located at GPE-B-8 , GPE-B-9 , '\n",
      " 'GPE-B-10 . He performed well .',\n",
      " 'PERSON-B-11 PERSON-I-12 worked with me for a long long time in the NORP-B-13 '\n",
      " 'state . I was her direct superviser at ORG-B-14 ORG-I-15 ORG-I-7 .']\n"
     ]
    }
   ],
   "source": [
    "mapping = {}\n",
    "\n",
    "anon_strings = [get_anon_string(string, mapping) for string in strings]\n",
    "\n",
    "pprint(anon_strings)"
   ]
  },
  {
   "cell_type": "markdown",
   "metadata": {},
   "source": [
    "##### Note that even though words like `the` and `of` are in the mapping, not all of them are replaced in the text. Only those that are part of Named Entities are replaced. "
   ]
  },
  {
   "cell_type": "code",
   "execution_count": 4,
   "metadata": {
    "scrolled": true
   },
   "outputs": [
    {
     "name": "stdout",
     "output_type": "stream",
     "text": [
      "{'Anand': 'PERSON-B-0',\n",
      " 'Gabriella': 'PERSON-B-11',\n",
      " 'Global': 'ORG-B-14',\n",
      " 'Gupta': 'PERSON-I-2',\n",
      " 'India': 'GPE-B-10',\n",
      " 'Institute': 'ORG-I-5',\n",
      " 'Marquex': 'PERSON-I-12',\n",
      " 'P': 'PERSON-I-1',\n",
      " 'Pilani': 'GPE-B-8',\n",
      " 'Rajasthan': 'GPE-B-9',\n",
      " 'Technology': 'ORG-I-7',\n",
      " 'XYZ': 'ORG-I-4',\n",
      " 'Yugoslavic': 'NORP-B-13',\n",
      " 'link': 'ORG-I-15',\n",
      " 'of': 'ORG-I-6',\n",
      " 'the': 'ORG-B-3'}\n"
     ]
    }
   ],
   "source": [
    "pprint(mapping)"
   ]
  }
 ],
 "metadata": {
  "kernelspec": {
   "display_name": "Python (bert_env_pytorch)",
   "language": "python",
   "name": "bert_env_pytorch"
  },
  "language_info": {
   "codemirror_mode": {
    "name": "ipython",
    "version": 3
   },
   "file_extension": ".py",
   "mimetype": "text/x-python",
   "name": "python",
   "nbconvert_exporter": "python",
   "pygments_lexer": "ipython3",
   "version": "3.7.3"
  }
 },
 "nbformat": 4,
 "nbformat_minor": 2
}
