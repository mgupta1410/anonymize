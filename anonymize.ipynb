{
 "cells": [
  {
   "cell_type": "markdown",
   "metadata": {},
   "source": [
    "# Usage"
   ]
  },
  {
   "cell_type": "markdown",
   "metadata": {},
   "source": [
    "### Anonymizing class `Anonymize` defined in `anonymize.py`"
   ]
  },
  {
   "cell_type": "code",
   "execution_count": 1,
   "metadata": {},
   "outputs": [],
   "source": [
    "import spacy\n",
    "from pprint import pprint\n",
    "import tabulate\n",
    "\n",
    "from anonymize import Anonymize"
   ]
  },
  {
   "cell_type": "markdown",
   "metadata": {},
   "source": [
    "### Set tags to be considered "
   ]
  },
  {
   "cell_type": "code",
   "execution_count": 2,
   "metadata": {},
   "outputs": [],
   "source": [
    "spacy_tags_to_anon = ['PERSON', 'ORG', 'GPE', 'NORP', 'FAC', 'DATE', 'TIME']\n",
    "custom_tags_to_anon = ['COURSE', 'CONTACT', 'EMAIL']\n",
    "#spacy_tags_to_anon = ['PERSON', 'ORG']\n",
    "#custom_tags_to_anon = []\n",
    "\n",
    "anon = Anonymize(spacy_tags_to_anon, custom_tags_to_anon)"
   ]
  },
  {
   "cell_type": "markdown",
   "metadata": {},
   "source": [
    "##### Kindly refer to https://spacy.io/api/annotation#named-entities for tag definitions"
   ]
  },
  {
   "cell_type": "markdown",
   "metadata": {},
   "source": [
    "### Call `get_anon_string` for all the strings"
   ]
  },
  {
   "cell_type": "code",
   "execution_count": 3,
   "metadata": {},
   "outputs": [],
   "source": [
    "orig_strings = [\"Anand P Gupta took TGF4567 got gpa 3.156 was a student in my university, the XYZ Institute of Technology located at Pilani, Rajasthan, India. He performed well.\",\n",
    "           \n",
    "           \"Gabriella Marquex worked with me for a long long time in the Yugoslavic state. I was her direct superviser at Global link Technology.\",\n",
    "                \n",
    "                \"The complete program was built by Julia in two months and I hired her on last week in September 2011 on 09/12/2011. She took the course CSE110\",\n",
    "                \n",
    "                \"My home contact number is (000)-0000 and my mobile number and e-mail is some-email@123.com is +91-000(567)1234. My other number is 1234567890. My friend Ram's number is 000-0000\"]"
   ]
  },
  {
   "cell_type": "code",
   "execution_count": 4,
   "metadata": {
    "scrolled": true
   },
   "outputs": [
    {
     "name": "stdout",
     "output_type": "stream",
     "text": [
      "Example #1\n",
      "Original String    Anonymized String\n",
      "-----------------  -------------------\n",
      "Anand              PERSON-B-0\n",
      "P                  PERSON-I-1\n",
      "Gupta              PERSON-I-2\n",
      "took               took\n",
      "TGF4567            COURSE-B-3\n",
      "got                got\n",
      "gpa                gpa\n",
      "3                  3\n",
      ".                  .\n",
      "156                156\n",
      "was                was\n",
      "a                  a\n",
      "student            student\n",
      "in                 in\n",
      "my                 my\n",
      "university         university\n",
      ",                  ,\n",
      "the                ORG-B-4\n",
      "XYZ                ORG-I-5\n",
      "Institute          ORG-I-6\n",
      "of                 ORG-I-7\n",
      "Technology         ORG-I-8\n",
      "located            located\n",
      "at                 at\n",
      "Pilani             GPE-B-9\n",
      ",                  ,\n",
      "Rajasthan          GPE-B-10\n",
      ",                  ,\n",
      "India              GPE-B-11\n",
      ".                  .\n",
      "He                 He\n",
      "performed          performed\n",
      "well               well\n",
      ".                  .\n",
      "**************************************************\n",
      "Example #2\n",
      "Original String    Anonymized String\n",
      "-----------------  -------------------\n",
      "Gabriella          PERSON-B-12\n",
      "Marquex            PERSON-I-13\n",
      "worked             worked\n",
      "with               with\n",
      "me                 me\n",
      "for                for\n",
      "a                  a\n",
      "long               long\n",
      "long               long\n",
      "time               time\n",
      "in                 in\n",
      "the                the\n",
      "Yugoslavic         NORP-B-14\n",
      "state              state\n",
      ".                  .\n",
      "I                  I\n",
      "was                was\n",
      "her                her\n",
      "direct             direct\n",
      "superviser         superviser\n",
      "at                 at\n",
      "Global             ORG-B-15\n",
      "link               ORG-I-16\n",
      "Technology         ORG-I-8\n",
      ".                  .\n",
      "**************************************************\n",
      "Example #3\n",
      "Original String    Anonymized String\n",
      "-----------------  -------------------\n",
      "The                The\n",
      "complete           complete\n",
      "program            program\n",
      "was                was\n",
      "built              built\n",
      "by                 by\n",
      "Julia              GPE-B-17\n",
      "in                 in\n",
      "two                DATE-B-18\n",
      "months             DATE-I-19\n",
      "and                and\n",
      "I                  I\n",
      "hired              hired\n",
      "her                her\n",
      "on                 on\n",
      "last               DATE-B-20\n",
      "week               DATE-I-21\n",
      "in                 in\n",
      "September          DATE-B-22\n",
      "2011               DATE-I-23\n",
      "on                 on\n",
      "09/12/2011         DATE-B-24\n",
      ".                  .\n",
      "She                She\n",
      "took               took\n",
      "the                the\n",
      "course             course\n",
      "CSE110             COURSE-B-25\n",
      "**************************************************\n",
      "Example #4\n",
      "Original String    Anonymized String\n",
      "-----------------  -------------------\n",
      "My                 My\n",
      "home               home\n",
      "contact            contact\n",
      "number             number\n",
      "is                 is\n",
      "(000)-0000         CONTACT-B-26\n",
      "and                and\n",
      "my                 my\n",
      "mobile             mobile\n",
      "number             number\n",
      "and                and\n",
      "e-mail             e-mail\n",
      "is                 is\n",
      "some-email@123     EMAIL-B-27\n",
      ".                  .\n",
      "com                com\n",
      "is                 is\n",
      "+91-000(567)1234   CONTACT-B-28\n",
      ".                  .\n",
      "My                 My\n",
      "other              other\n",
      "number             number\n",
      "is                 is\n",
      "1234567890         CONTACT-B-29\n",
      ".                  .\n",
      "My                 My\n",
      "friend             friend\n",
      "Ram                PERSON-B-30\n",
      "'                  '\n",
      "s                  s\n",
      "number             number\n",
      "is                 is\n",
      "000-0000           CONTACT-B-31\n",
      "**************************************************\n"
     ]
    }
   ],
   "source": [
    "anon_strings = [anon.get_anon_string(orig_string) for orig_string in orig_strings]\n",
    "\n",
    "for idx in range(len(orig_strings)):\n",
    "    print(\"Example #{0}\".format(idx + 1))\n",
    "    to_print = tabulate.tabulate(zip(anon.tokenize(orig_strings[idx]), anon_strings[idx].split()), \\\n",
    "                             headers = [\"Original String\", \"Anonymized String\"])\n",
    "    print(to_print)\n",
    "    print(\"*\"*50)"
   ]
  },
  {
   "cell_type": "markdown",
   "metadata": {},
   "source": [
    "### To print mapping  -"
   ]
  },
  {
   "cell_type": "code",
   "execution_count": 5,
   "metadata": {
    "scrolled": false
   },
   "outputs": [
    {
     "name": "stdout",
     "output_type": "stream",
     "text": [
      "{'(000)-0000': 'CONTACT-B-26',\n",
      " '+91-000(567)1234': 'CONTACT-B-28',\n",
      " '000-0000': 'CONTACT-B-31',\n",
      " '09/12/2011': 'DATE-B-24',\n",
      " '1234567890': 'CONTACT-B-29',\n",
      " '2011': 'DATE-I-23',\n",
      " 'Anand': 'PERSON-B-0',\n",
      " 'CSE110': 'COURSE-B-25',\n",
      " 'Gabriella': 'PERSON-B-12',\n",
      " 'Global': 'ORG-B-15',\n",
      " 'Gupta': 'PERSON-I-2',\n",
      " 'India': 'GPE-B-11',\n",
      " 'Institute': 'ORG-I-6',\n",
      " 'Julia': 'GPE-B-17',\n",
      " 'Marquex': 'PERSON-I-13',\n",
      " 'P': 'PERSON-I-1',\n",
      " 'Pilani': 'GPE-B-9',\n",
      " 'Rajasthan': 'GPE-B-10',\n",
      " 'Ram': 'PERSON-B-30',\n",
      " 'September': 'DATE-B-22',\n",
      " 'TGF4567': 'COURSE-B-3',\n",
      " 'Technology': 'ORG-I-8',\n",
      " 'XYZ': 'ORG-I-5',\n",
      " 'Yugoslavic': 'NORP-B-14',\n",
      " 'last': 'DATE-B-20',\n",
      " 'link': 'ORG-I-16',\n",
      " 'months': 'DATE-I-19',\n",
      " 'of': 'ORG-I-7',\n",
      " 'some-email@123': 'EMAIL-B-27',\n",
      " 'the': 'ORG-B-4',\n",
      " 'two': 'DATE-B-18',\n",
      " 'week': 'DATE-I-21'}\n"
     ]
    }
   ],
   "source": [
    "pprint(anon.mapping)"
   ]
  },
  {
   "cell_type": "markdown",
   "metadata": {},
   "source": [
    "##### Note that even though words like `the` and `of` are in the mapping, not all of them are replaced in the text. Only those that are part of Named Entities are replaced. "
   ]
  },
  {
   "cell_type": "markdown",
   "metadata": {},
   "source": [
    "### To save mapping - "
   ]
  },
  {
   "cell_type": "code",
   "execution_count": 6,
   "metadata": {},
   "outputs": [],
   "source": [
    "filepath = 'anon_mapping.pkl'\n",
    "anon.save_mapping(filepath)"
   ]
  },
  {
   "cell_type": "markdown",
   "metadata": {},
   "source": [
    "### To load mapping - "
   ]
  },
  {
   "cell_type": "code",
   "execution_count": 7,
   "metadata": {
    "scrolled": true
   },
   "outputs": [
    {
     "name": "stdout",
     "output_type": "stream",
     "text": [
      "{'(000)-0000': 'CONTACT-B-26',\n",
      " '+91-000(567)1234': 'CONTACT-B-28',\n",
      " '000-0000': 'CONTACT-B-31',\n",
      " '09/12/2011': 'DATE-B-24',\n",
      " '1234567890': 'CONTACT-B-29',\n",
      " '2011': 'DATE-I-23',\n",
      " 'Anand': 'PERSON-B-0',\n",
      " 'CSE110': 'COURSE-B-25',\n",
      " 'Gabriella': 'PERSON-B-12',\n",
      " 'Global': 'ORG-B-15',\n",
      " 'Gupta': 'PERSON-I-2',\n",
      " 'India': 'GPE-B-11',\n",
      " 'Institute': 'ORG-I-6',\n",
      " 'Julia': 'GPE-B-17',\n",
      " 'Marquex': 'PERSON-I-13',\n",
      " 'P': 'PERSON-I-1',\n",
      " 'Pilani': 'GPE-B-9',\n",
      " 'Rajasthan': 'GPE-B-10',\n",
      " 'Ram': 'PERSON-B-30',\n",
      " 'September': 'DATE-B-22',\n",
      " 'TGF4567': 'COURSE-B-3',\n",
      " 'Technology': 'ORG-I-8',\n",
      " 'XYZ': 'ORG-I-5',\n",
      " 'Yugoslavic': 'NORP-B-14',\n",
      " 'last': 'DATE-B-20',\n",
      " 'link': 'ORG-I-16',\n",
      " 'months': 'DATE-I-19',\n",
      " 'of': 'ORG-I-7',\n",
      " 'some-email@123': 'EMAIL-B-27',\n",
      " 'the': 'ORG-B-4',\n",
      " 'two': 'DATE-B-18',\n",
      " 'week': 'DATE-I-21'}\n"
     ]
    }
   ],
   "source": [
    "mapping = anon.load_mapping(filepath)\n",
    "pprint(mapping)"
   ]
  },
  {
   "cell_type": "code",
   "execution_count": null,
   "metadata": {},
   "outputs": [],
   "source": []
  }
 ],
 "metadata": {
  "kernelspec": {
   "display_name": "Python (bert_env_pytorch)",
   "language": "python",
   "name": "bert_env_pytorch"
  },
  "language_info": {
   "codemirror_mode": {
    "name": "ipython",
    "version": 3
   },
   "file_extension": ".py",
   "mimetype": "text/x-python",
   "name": "python",
   "nbconvert_exporter": "python",
   "pygments_lexer": "ipython3",
   "version": "3.7.3"
  }
 },
 "nbformat": 4,
 "nbformat_minor": 2
}
